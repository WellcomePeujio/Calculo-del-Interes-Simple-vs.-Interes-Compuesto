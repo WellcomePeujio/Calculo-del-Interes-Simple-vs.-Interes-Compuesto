{
  "nbformat": 4,
  "nbformat_minor": 0,
  "metadata": {
    "colab": {
      "private_outputs": true,
      "provenance": [],
      "authorship_tag": "ABX9TyOEzu2ZxWbimeHeTtg8hcZm",
      "include_colab_link": true
    },
    "kernelspec": {
      "name": "python3",
      "display_name": "Python 3"
    },
    "language_info": {
      "name": "python"
    }
  },
  "cells": [
    {
      "cell_type": "markdown",
      "metadata": {
        "id": "view-in-github",
        "colab_type": "text"
      },
      "source": [
        "<a href=\"https://colab.research.google.com/github/WellcomePeujio/Calculo-del-Interes-Simple-vs.-Interes-Compuesto/blob/main/C%C3%A1lculoInter%C3%A9sSimpleInter%C3%A9sCompuesto.ipynb\" target=\"_parent\"><img src=\"https://colab.research.google.com/assets/colab-badge.svg\" alt=\"Open In Colab\"/></a>"
      ]
    },
    {
      "cell_type": "markdown",
      "source": [
        "# Cálculo del Interés Simple vs. Interés Compuesto\n",
        "\n",
        "## Problema\n",
        "\n",
        "Compara el crecimiento de una inversión de $1,000 en 5 años utilizando tanto interés simple como compuesto con una tasa anual del 5%.\n",
        "\n",
        "## Preguntas:\n",
        "\n",
        "1. **¿Cuál es el valor futuro utilizando interés simple?**\n",
        "\n",
        "2. **¿Cuál es el valor futuro utilizando interés compuesto?**"
      ],
      "metadata": {
        "id": "l1q4w5AefO3Q"
      }
    },
    {
      "cell_type": "markdown",
      "source": [
        "# Resolución Matemática: Interés Simple vs. Interés Compuesto\n",
        "\n",
        "## Datos del Problema\n",
        "\n",
        "- **Inversión inicial (P):** $1,000\n",
        "- **Tiempo (t):** 5 años\n",
        "- **Tasa de interés anual (r):** 5%\n",
        "\n",
        "## 1. Cálculo del Valor Futuro con Interés Simple\n",
        "\n",
        "El **interés simple** se calcula con la siguiente fórmula:\n",
        "\n",
        "$$\n",
        "A_{simple} = P \\times (1 + r \\times t)\n",
        "$$\n",
        "\n",
        "Sustituyendo los valores del problema:\n",
        "\n",
        "$$\n",
        "A_{simple} = 1000 \\times (1 + 0.05 \\times 5)\n",
        "$$\n",
        "\n",
        "$$\n",
        "A_{simple} = 1000 \\times (1 + 0.25) = 1000 \\times 1.25 = 1250 \\text{ dólares}\n",
        "$$\n",
        "\n",
        "Por lo tanto, el valor futuro utilizando interés simple es **$1,250**.\n",
        "\n",
        "## 2. Cálculo del Valor Futuro con Interés Compuesto\n",
        "\n",
        "El **interés compuesto** se calcula con la siguiente fórmula:\n",
        "\n",
        "$$\n",
        "A_{compuesto} = P \\times \\left(1 + \\frac{r}{n}\\right)^{n \\times t}\n",
        "$$\n",
        "\n",
        "Para este problema, consideramos una capitalización anual (\\( n = 1 \\)):\n",
        "\n",
        "$$\n",
        "A_{compuesto} = 1000 \\times \\left(1 + \\frac{0.05}{1}\\right)^{1 \\times 5}\n",
        "$$\n",
        "\n",
        "Simplificamos la expresión:\n",
        "\n",
        "$$\n",
        "A_{compuesto} = 1000 \\times (1.05)^5\n",
        "$$\n",
        "\n",
        "Calculando la potencia:\n",
        "\n",
        "$$\n",
        "A_{compuesto} \\approx 1000 \\times 1.27628 = 1276.28 \\text{ dólares}\n",
        "$$\n",
        "\n",
        "Por lo tanto, el valor futuro utilizando interés compuesto es **$1,276.28**."
      ],
      "metadata": {
        "id": "dXozOjRWhqwi"
      }
    },
    {
      "cell_type": "code",
      "source": [
        "import numpy as np\n",
        "import matplotlib.pyplot as plt\n",
        "\n",
        "# Datos del problema\n",
        "P = 1000  # Inversión inicial en dólares\n",
        "r = 0.05  # Tasa de interés anual (5%)\n",
        "t = 5  # Tiempo en años\n",
        "\n",
        "# Cálculo del valor futuro utilizando interés simple\n",
        "A_simple = P * (1 + r * t)\n",
        "\n",
        "# Cálculo del valor futuro utilizando interés compuesto\n",
        "A_compuesto = P * (1 + r)**t\n",
        "\n",
        "# Resultados\n",
        "print(f\"Valor futuro utilizando interés simple: ${A_simple:.2f}\")\n",
        "print(f\"Valor futuro utilizando interés compuesto: ${A_compuesto:.2f}\")\n",
        "\n",
        "# Generación de la gráfica\n",
        "años = np.arange(0, t+1, 1)\n",
        "valor_simple = P * (1 + r * años)\n",
        "valor_compuesto = P * (1 + r)**años\n",
        "\n",
        "plt.figure(figsize=(10, 6))\n",
        "plt.plot(años, valor_simple, label=\"Interés Simple\", color='blue', marker='o')\n",
        "plt.plot(años, valor_compuesto, label=\"Interés Compuesto\", color='green', marker='o')\n",
        "plt.title(\"Evolución del Valor Futuro: Interés Simple vs. Interés Compuesto\")\n",
        "plt.xlabel(\"Años\")\n",
        "plt.ylabel(\"Valor Futuro ($)\")\n",
        "plt.legend()\n",
        "plt.grid(True)\n",
        "plt.show()"
      ],
      "metadata": {
        "id": "SK-EDR7wiGvB"
      },
      "execution_count": null,
      "outputs": []
    }
  ]
}